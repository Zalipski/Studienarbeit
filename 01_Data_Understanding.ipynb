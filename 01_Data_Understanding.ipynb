{
  "nbformat": 4,
  "nbformat_minor": 0,
  "metadata": {
    "colab": {
      "name": "01_Data_Understanding.ipynb",
      "provenance": [],
      "collapsed_sections": [],
      "machine_shape": "hm",
      "include_colab_link": true
    },
    "kernelspec": {
      "name": "python3",
      "display_name": "Python 3"
    }
  },
  "cells": [
    {
      "cell_type": "markdown",
      "metadata": {
        "id": "view-in-github",
        "colab_type": "text"
      },
      "source": [
        "<a href=\"https://colab.research.google.com/gist/worona-upb/fbc2f5c6d6e0ff59e5bb51bce4023a41/01_data_understanding.ipynb\" target=\"_parent\"><img src=\"https://colab.research.google.com/assets/colab-badge.svg\" alt=\"Open In Colab\"/></a>"
      ]
    },
    {
      "cell_type": "markdown",
      "metadata": {
        "id": "DSvfilJ18wSC",
        "colab_type": "text"
      },
      "source": [
        "# Config\n",
        "\n",
        "## Online\n",
        "\n",
        "Das Notebook kann mit unserem vollständigen finalen Modell online auf https://colab.research.google.com und dem [Google-Drive-Ordner](https://drive.google.com/drive/folders/1uGUhBHv95S7T_YHfX-radjUapn1B5GHb?usp=sharing) (\"Add to My Drive\"/\"Zu Meine Ablage hinzufügen\" erforderlich) ausgeführt werden. Dabei werden die Modelle aus dem Drive-Ordner geladen.\n",
        "\n",
        "## Lokal\n",
        "\n",
        "Ansonsten müssen folgende Konfigurationsparameter angepasst werden:\n",
        "\n",
        "- `dataset_folder_name`: Ordner, der den Yelp-Datensatz (.csv) enthält\n",
        "    - Benötigt werden die Tabellen \"category\", \"business\" und \"review\"\n",
        "- `table_name_template`: Dateinamenformat\n",
        "    - `{table_name}` wird in der Funktion `load_table` durch den jeweiligen Tabellennamen ersetzt"
      ]
    },
    {
      "cell_type": "code",
      "metadata": {
        "id": "hYS0xIbR724q",
        "colab_type": "code",
        "colab": {}
      },
      "source": [
        "dataset_folder_name = \"yelp_data\"\n",
        "table_name_template = \"yelp_db_{table_name}.csv\""
      ],
      "execution_count": 0,
      "outputs": []
    },
    {
      "cell_type": "code",
      "metadata": {
        "colab_type": "code",
        "id": "dyZbT1Xhib6X",
        "colab": {}
      },
      "source": [
        "try:\n",
        "    INSIDE_COLAB = get_ipython().config.IPKernelApp.kernel_class == \"google.colab._kernel.Kernel\"\n",
        "except Exception:\n",
        "    INSIDE_COLAB = False"
      ],
      "execution_count": 0,
      "outputs": []
    },
    {
      "cell_type": "code",
      "metadata": {
        "colab_type": "code",
        "id": "ZZJ6yyW7sgL-",
        "colab": {}
      },
      "source": [
        "!pip install -U tqdm fastparquet matplotlib seaborn"
      ],
      "execution_count": 0,
      "outputs": []
    },
    {
      "cell_type": "code",
      "metadata": {
        "colab_type": "code",
        "id": "93lBx217q1tu",
        "colab": {}
      },
      "source": [
        "if INSIDE_COLAB:\n",
        "    from google.colab import drive\n",
        "\n",
        "import json\n",
        "import os\n",
        "import random\n",
        "\n",
        "import pandas as pd\n",
        "\n",
        "import matplotlib.pyplot as plt\n",
        "\n",
        "import seaborn as sns\n",
        "\n",
        "from tqdm.auto import tqdm\n",
        "tqdm.pandas()"
      ],
      "execution_count": 0,
      "outputs": []
    },
    {
      "cell_type": "code",
      "metadata": {
        "id": "-u0KPxjW7yvG",
        "colab_type": "code",
        "colab": {}
      },
      "source": [
        "if INSIDE_COLAB:\n",
        "    mount_directory = \"/gdrive\"\n",
        "    dataset_directory = os.path.join(mount_directory, \"My Drive\", dataset_folder_name)\n",
        "else:\n",
        "    dataset_directory = dataset_folder_name\n",
        "\n",
        "\n",
        "def p(*path):\n",
        "    \"\"\"Utility function to create a path to dataset directory.\"\"\"\n",
        "    return os.path.join(dataset_directory, *path)\n",
        "\n",
        "\n",
        "review_csv_kwargs = {\n",
        "    \"parse_dates\": [2],\n",
        "    \"infer_datetime_format\": True\n",
        "}\n",
        "\n",
        "def load_table(table_name):\n",
        "    \"\"\"Load a yelp database table by its name.\"\"\"\n",
        "\n",
        "    kwargs = review_csv_kwargs if table_name == \"review\" else {}\n",
        "\n",
        "    return pd.read_csv(\n",
        "        p(table_name_template.format(table_name=table_name)),\n",
        "        **kwargs\n",
        "    )\n",
        "\n",
        "\n",
        "class PATHS:\n",
        "    \"\"\"Collections of paths used in this notebook.\"\"\"\n",
        "\n",
        "    food_reviews = p(\"yelp_db_review_food.parquet\")\n",
        "\n",
        "\n",
        "def save_parquet(df, path):\n",
        "    \"\"\"Save a dataframe in parquet format.\"\"\"\n",
        "\n",
        "    print(f\"Speichere {path!r}...\")\n",
        "    df.to_parquet(path, engine=\"fastparquet\", index=True, compression=\"gzip\")\n",
        "\n",
        "def load_parquet(path):\n",
        "    \"\"\"Load a dataframe in parquet format.\"\"\"\n",
        "\n",
        "    print(f\"Lade {path!r}...\")\n",
        "    return pd.read_parquet(path, engine=\"fastparquet\")"
      ],
      "execution_count": 0,
      "outputs": []
    },
    {
      "cell_type": "code",
      "metadata": {
        "colab_type": "code",
        "id": "OC8W3Ibrq9Am",
        "colab": {}
      },
      "source": [
        "if INSIDE_COLAB:\n",
        "    from google.colab import drive\n",
        "    drive.mount(mount_directory)"
      ],
      "execution_count": 0,
      "outputs": []
    },
    {
      "cell_type": "markdown",
      "metadata": {
        "colab_type": "text",
        "id": "j2vUjE7Yvbct"
      },
      "source": [
        "# Datensätze laden"
      ]
    },
    {
      "cell_type": "code",
      "metadata": {
        "colab_type": "code",
        "id": "lQHTh9YT9tIF",
        "outputId": "75a39527-bdd9-486d-8c5a-43a56cf29a54",
        "colab": {
          "base_uri": "https://localhost:8080/",
          "height": 51
        }
      },
      "source": [
        "%%time\n",
        "\n",
        "cat_df = load_table(\"category\")\n",
        "bus_df = load_table(\"business\")\n",
        "rev_df = load_table(\"review\")"
      ],
      "execution_count": 7,
      "outputs": [
        {
          "output_type": "stream",
          "text": [
            "CPU times: user 45.6 s, sys: 9.34 s, total: 54.9 s\n",
            "Wall time: 1min 6s\n"
          ],
          "name": "stdout"
        }
      ]
    },
    {
      "cell_type": "markdown",
      "metadata": {
        "colab_type": "text",
        "id": "CyFyz1D6zUo8"
      },
      "source": [
        "# Nach Food-Kategorien filtern\n",
        "\n",
        "Siehe https://www.yelp.com/developers/documentation/v3/all_category_list"
      ]
    },
    {
      "cell_type": "code",
      "metadata": {
        "id": "hfxejAx9cI6y",
        "colab_type": "code",
        "colab": {}
      },
      "source": [
        "irrelevant_food_categories = [\n",
        "    \"Beer, Wine & Spirits\",\n",
        "    \"Butcher\",\n",
        "    \"CSA\",\n",
        "    \"Coffee & Tea Supplies\",\n",
        "    \"Coffee Roasteries\",\n",
        "    \"Convenience Stores\",\n",
        "    \"Distilleries\",\n",
        "    \"Do-It-Yourself Food\",\n",
        "    \"Ethical Grocery\",\n",
        "    \"Farmers Market\",\n",
        "    \"Fishmonger\",\n",
        "    \"Food Delivery Services\",\n",
        "    \"Grocery\",\n",
        "    \"Honey\",\n",
        "    \"Imported Food\",\n",
        "    \"International Grocery\",\n",
        "    \"Internet Cafes\",\n",
        "    \"Kiosk\",\n",
        "    \"Kombucha\",\n",
        "    \"Meaderies\",\n",
        "    \"Mulled Wine\",\n",
        "    \"Organic Stores\",\n",
        "    \"Parent Cafes\",\n",
        "    \"Specialty Food\",\n",
        "    \"Water Stores\",\n",
        "    \"Wineries\"\n",
        "]"
      ],
      "execution_count": 0,
      "outputs": []
    },
    {
      "cell_type": "code",
      "metadata": {
        "id": "nAd3oagxceAI",
        "colab_type": "code",
        "colab": {}
      },
      "source": [
        "food_cats = cat_df[cat_df.category.isin([\"Restaurants\", \"Food\"])]"
      ],
      "execution_count": 0,
      "outputs": []
    },
    {
      "cell_type": "code",
      "metadata": {
        "id": "VLHbu-wzeYFB",
        "colab_type": "code",
        "colab": {}
      },
      "source": [
        "irrelevant_bus_ids = cat_df[cat_df.category.isin(irrelevant_food_categories)].business_id.drop_duplicates()\n",
        "food_bus_ids = food_cats.business_id.drop_duplicates()\n",
        "food_bus_ids = food_bus_ids[~food_bus_ids.isin(irrelevant_bus_ids)]"
      ],
      "execution_count": 0,
      "outputs": []
    },
    {
      "cell_type": "code",
      "metadata": {
        "colab_type": "code",
        "id": "dXESMB9bwU-i",
        "colab": {}
      },
      "source": [
        "food_reviews_path = p(\"yelp_db_review_food.parquet\")"
      ],
      "execution_count": 0,
      "outputs": []
    },
    {
      "cell_type": "code",
      "metadata": {
        "colab_type": "code",
        "id": "x0U-Nm6b906_",
        "outputId": "caf23e08-8701-4214-b32f-58fb59ec5202",
        "colab": {
          "base_uri": "https://localhost:8080/",
          "height": 68
        }
      },
      "source": [
        "%%time\n",
        "\n",
        "food_bus_df = bus_df[bus_df.id.isin(food_bus_ids)]\n",
        "\n",
        "if not os.path.exists(food_reviews_path):\n",
        "    food_rev_df = rev_df[rev_df.business_id.isin(food_bus_df.id)].set_index(\"id\")\n",
        "    save_parquet(food_rev_df, food_reviews_path)\n",
        "else:\n",
        "    food_rev_df = load_parquet(food_reviews_path)"
      ],
      "execution_count": 12,
      "outputs": [
        {
          "output_type": "stream",
          "text": [
            "Lade '/gdrive/My Drive/yelp_data/yelp_db_review_food.parquet'...\n",
            "CPU times: user 24.8 s, sys: 11.3 s, total: 36.1 s\n",
            "Wall time: 52.3 s\n"
          ],
          "name": "stdout"
        }
      ]
    },
    {
      "cell_type": "code",
      "metadata": {
        "colab_type": "code",
        "id": "7CDzCCe192sx",
        "outputId": "04eba750-6b17-406e-9bb7-3d6faf71aa9b",
        "colab": {
          "base_uri": "https://localhost:8080/",
          "height": 102
        }
      },
      "source": [
        "print(\"     Businesses: \", f\"{len(bus_df):,}\".replace(\",\", \" \").rjust(9))\n",
        "print(\"Food Businesses: \", f\"{len(food_bus_df):,}\".replace(\",\", \" \").rjust(9))\n",
        "print(\"   Food Reviews: \", f\"{len(food_rev_df):,}\".replace(\",\", \" \").rjust(9))\n",
        "\n",
        "print()\n",
        "\n",
        "reviews_per_day = len(food_rev_df) // (\n",
        "    food_rev_df.date.max() - food_rev_df.date.min()\n",
        ").days\n",
        "print(\"Reviews pro Tag: \", f\"~{reviews_per_day}\".rjust(9))"
      ],
      "execution_count": 13,
      "outputs": [
        {
          "output_type": "stream",
          "text": [
            "     Businesses:    156 639\n",
            "Food Businesses:     56 572\n",
            "   Food Reviews:  2 993 393\n",
            "\n",
            "Reviews pro Tag:       ~629\n"
          ],
          "name": "stdout"
        }
      ]
    },
    {
      "cell_type": "code",
      "metadata": {
        "id": "RnmiknOA0MDV",
        "colab_type": "code",
        "outputId": "4718ec59-194d-4778-ea80-80a4a68fcea1",
        "colab": {
          "base_uri": "https://localhost:8080/",
          "height": 234
        }
      },
      "source": [
        "food_bus_ratio_plot = pd.DataFrame({\n",
        "    \"Businesses\": [len(bus_df) - len(food_bus_df), len(food_bus_df)],\n",
        "    \"Reviews\": [len(rev_df) - len(food_rev_df), len(food_rev_df)]},\n",
        "    index=[\"Andere Businesses\", '\"Food\"-Businesses']\n",
        ").plot.pie(\n",
        "    autopct='%1.0f%%',\n",
        "    pctdistance=1.2,\n",
        "    colors=[\"gray\", \"black\"],\n",
        "    labels=None,\n",
        "    subplots=True\n",
        ")\n",
        "\n",
        "food_bus_ratio_plot[0].get_legend().remove()\n",
        "food_bus_ratio_plot[1].legend(labels=[\"Andere Businesses\", '\"Food\"-Businesses'], bbox_to_anchor=(1, 1))"
      ],
      "execution_count": 14,
      "outputs": [
        {
          "output_type": "stream",
          "text": [
            "No handles with labels found to put in legend.\n",
            "No handles with labels found to put in legend.\n"
          ],
          "name": "stderr"
        },
        {
          "output_type": "execute_result",
          "data": {
            "text/plain": [
              "<matplotlib.legend.Legend at 0x7f6eaf29a4a8>"
            ]
          },
          "metadata": {
            "tags": []
          },
          "execution_count": 14
        },
        {
          "output_type": "display_data",
          "data": {
            "image/png": "[encoded data removed]",
            "text/plain": [
              "<Figure size 432x288 with 2 Axes>"
            ]
          },
          "metadata": {
            "tags": []
          }
        }
      ]
    },
    {
      "cell_type": "code",
      "metadata": {
        "id": "dRBI6XZk4gJ6",
        "colab_type": "code",
        "colab": {}
      },
      "source": [
        "food_bus_ratio_plot[0].figure.savefig(\"food-bus-ratio.pdf\", bbox_inches=\"tight\")"
      ],
      "execution_count": 0,
      "outputs": []
    },
    {
      "cell_type": "code",
      "metadata": {
        "id": "d9fU0er-Bjab",
        "colab_type": "code",
        "colab": {}
      },
      "source": [
        "del bus_df"
      ],
      "execution_count": 0,
      "outputs": []
    },
    {
      "cell_type": "code",
      "metadata": {
        "colab_type": "code",
        "id": "4ynfceXswYFV",
        "colab": {}
      },
      "source": [
        "df = rev_df"
      ],
      "execution_count": 0,
      "outputs": []
    },
    {
      "cell_type": "markdown",
      "metadata": {
        "colab_type": "text",
        "id": "fdyS0JYswTX0"
      },
      "source": [
        "# Statistiken"
      ]
    },
    {
      "cell_type": "code",
      "metadata": {
        "id": "1FV7WMd_5ZCU",
        "colab_type": "code",
        "outputId": "6d7eae36-7404-404a-ee1c-53da63734d2d",
        "colab": {
          "base_uri": "https://localhost:8080/",
          "height": 265
        }
      },
      "source": [
        "revs_time_plot = df.groupby(df.date.dt.to_period(\"M\")).size().plot(color=\"k\", figsize=(8.55, 3.42))\n",
        "revs_time_plot.axhline(y=10_000, linestyle=\"--\", color=\"gray\", linewidth=2)\n",
        "revs_time_plot.set_xlabel(\"Datum\")\n",
        "revs_time_plot.set_ylabel(\"Review-Anzahl (Monat)\")"
      ],
      "execution_count": 20,
      "outputs": [
        {
          "output_type": "execute_result",
          "data": {
            "text/plain": [
              "Text(0, 0.5, 'Review-Anzahl (Monat)')"
            ]
          },
          "metadata": {
            "tags": []
          },
          "execution_count": 20
        },
        {
          "output_type": "display_data",
          "data": {
            "image/png": "[encoded data removed]",
            "text/plain": [
              "<Figure size 615.6x246.24 with 1 Axes>"
            ]
          },
          "metadata": {
            "tags": []
          }
        }
      ]
    },
    {
      "cell_type": "code",
      "metadata": {
        "id": "ZzEjnyn6653B",
        "colab_type": "code",
        "colab": {}
      },
      "source": [
        "revs_time_plot.figure.savefig(\"food-rev-time.pdf\", bbox_inches=\"tight\")"
      ],
      "execution_count": 0,
      "outputs": []
    },
    {
      "cell_type": "code",
      "metadata": {
        "colab_type": "code",
        "id": "dl3x4Y0Zwf16",
        "outputId": "56eed904-c77a-48ba-f7e7-bbaa2d086296",
        "colab": {
          "base_uri": "https://localhost:8080/",
          "height": 343
        }
      },
      "source": [
        "revs_each_month_plot = (\n",
        "    df.groupby(df.date.dt.month).size().rename({\n",
        "        1: \"Januar\",\n",
        "        2: \"Februar\",\n",
        "        3: \"März\",\n",
        "        4: \"April\",\n",
        "        5: \"Mai\",\n",
        "        6: \"Juni\",\n",
        "        7: \"Juli\",\n",
        "        8: \"August\",\n",
        "        9: \"September\",\n",
        "        10: \"Oktober\",\n",
        "        11: \"November\",\n",
        "        12: \"Dezember\"\n",
        "    }).plot.bar(color=\"k\", figsize=(7, 4))\n",
        ")\n",
        "revs_each_month_plot.set_xlabel(\"Monat\")\n",
        "revs_each_month_plot.axhline(df.groupby(df.date.dt.month).size().mean(), linestyle=\"--\", color=\"gray\")"
      ],
      "execution_count": 22,
      "outputs": [
        {
          "output_type": "execute_result",
          "data": {
            "text/plain": [
              "<matplotlib.lines.Line2D at 0x7f6eaf2c54e0>"
            ]
          },
          "metadata": {
            "tags": []
          },
          "execution_count": 22
        },
        {
          "output_type": "display_data",
          "data": {
            "image/png": "[encoded data removed]",
            "text/plain": [
              "<Figure size 504x288 with 1 Axes>"
            ]
          },
          "metadata": {
            "tags": []
          }
        }
      ]
    },
    {
      "cell_type": "code",
      "metadata": {
        "id": "h1Z5Qy849Mlc",
        "colab_type": "code",
        "colab": {}
      },
      "source": [
        "revs_each_month_plot.figure.savefig(\"food-rev-month-agg.pdf\", bbox_inches=\"tight\")"
      ],
      "execution_count": 0,
      "outputs": []
    },
    {
      "cell_type": "code",
      "metadata": {
        "id": "gDE7LIH2l_xL",
        "colab_type": "code",
        "outputId": "fc8f6c7b-417d-43b9-af4d-37f05468e79e",
        "colab": {
          "base_uri": "https://localhost:8080/",
          "height": 293
        }
      },
      "source": [
        "ax = rev_df.stars.astype(\"category\").value_counts(sort=False).plot.bar()\n",
        "ax.set_xlabel(\"Sterne\")\n",
        "ax.set_ylabel(\"Anzahl Reviews\")"
      ],
      "execution_count": 24,
      "outputs": [
        {
          "output_type": "execute_result",
          "data": {
            "text/plain": [
              "Text(0, 0.5, 'Anzahl Reviews')"
            ]
          },
          "metadata": {
            "tags": []
          },
          "execution_count": 24
        },
        {
          "output_type": "display_data",
          "data": {
            "image/png": "[encoded data removed]",
            "text/plain": [
              "<Figure size 432x288 with 1 Axes>"
            ]
          },
          "metadata": {
            "tags": []
          }
        }
      ]
    },
    {
      "cell_type": "code",
      "metadata": {
        "id": "jYpy8JCjmcr0",
        "colab_type": "code",
        "colab": {}
      },
      "source": [
        "ax.figure.savefig(\"stars_dist.pdf\", bbox_inches=\"tight\")"
      ],
      "execution_count": 0,
      "outputs": []
    },
    {
      "cell_type": "code",
      "metadata": {
        "colab_type": "code",
        "id": "N0LkwCdVhjgN",
        "outputId": "4841052a-cbf5-4b12-9a9b-f298c4b105fa",
        "colab": {
          "base_uri": "https://localhost:8080/",
          "height": 598
        }
      },
      "source": [
        "df['length'] = df['text'].apply(len)\n",
        "df.head()"
      ],
      "execution_count": 26,
      "outputs": [
        {
          "output_type": "execute_result",
          "data": {
            "text/html": [
              "<div>\n",
              "<style scoped>\n",
              "    .dataframe tbody tr th:only-of-type {\n",
              "        vertical-align: middle;\n",
              "    }\n",
              "\n",
              "    .dataframe tbody tr th {\n",
              "        vertical-align: top;\n",
              "    }\n",
              "\n",
              "    .dataframe thead th {\n",
              "        text-align: right;\n",
              "    }\n",
              "</style>\n",
              "<table border=\"1\" class=\"dataframe\">\n",
              "  <thead>\n",
              "    <tr style=\"text-align: right;\">\n",
              "      <th></th>\n",
              "      <th>id</th>\n",
              "      <th>stars</th>\n",
              "      <th>date</th>\n",
              "      <th>text</th>\n",
              "      <th>useful</th>\n",
              "      <th>funny</th>\n",
              "      <th>cool</th>\n",
              "      <th>business_id</th>\n",
              "      <th>user_id</th>\n",
              "      <th>length</th>\n",
              "    </tr>\n",
              "  </thead>\n",
              "  <tbody>\n",
              "    <tr>\n",
              "      <th>0</th>\n",
              "      <td>----X0BIDP9tA49U3RvdSQ</td>\n",
              "      <td>4</td>\n",
              "      <td>2014-02-17</td>\n",
              "      <td>Red, white and bleu salad was super yum and a ...</td>\n",
              "      <td>0</td>\n",
              "      <td>0</td>\n",
              "      <td>0</td>\n",
              "      <td>Ue6-WhXvI-_1xUIuapl0zQ</td>\n",
              "      <td>gVmUR8rqUFdbSeZbsg6z_w</td>\n",
              "      <td>322</td>\n",
              "    </tr>\n",
              "    <tr>\n",
              "      <th>1</th>\n",
              "      <td>---0hl58W-sjVTKi5LghGw</td>\n",
              "      <td>4</td>\n",
              "      <td>2016-07-24</td>\n",
              "      <td>Ate the momos during the momo crawl.. Was the ...</td>\n",
              "      <td>0</td>\n",
              "      <td>0</td>\n",
              "      <td>0</td>\n",
              "      <td>Ae4ABFarGMaI5lk1i98A0w</td>\n",
              "      <td>Y6qylbHq8QJmaCRSlKdIog</td>\n",
              "      <td>137</td>\n",
              "    </tr>\n",
              "    <tr>\n",
              "      <th>2</th>\n",
              "      <td>---3OXpexMp0oAg77xWfYA</td>\n",
              "      <td>5</td>\n",
              "      <td>2012-04-07</td>\n",
              "      <td>Pizza here made my night... Good people and gr...</td>\n",
              "      <td>2</td>\n",
              "      <td>0</td>\n",
              "      <td>0</td>\n",
              "      <td>lKq4Qsz13FDcAVgp49uukQ</td>\n",
              "      <td>SnXZkRN9Yf060pNTk1HMDg</td>\n",
              "      <td>108</td>\n",
              "    </tr>\n",
              "    <tr>\n",
              "      <th>3</th>\n",
              "      <td>---65iIIGzHj96QnOh89EQ</td>\n",
              "      <td>5</td>\n",
              "      <td>2015-09-11</td>\n",
              "      <td>Great brisket sandwich as claimed. Weird that ...</td>\n",
              "      <td>0</td>\n",
              "      <td>0</td>\n",
              "      <td>0</td>\n",
              "      <td>6nKR80xEGHYf2UxAe_Cu_g</td>\n",
              "      <td>VcmSgvslHAhqWoEn16wjjw</td>\n",
              "      <td>113</td>\n",
              "    </tr>\n",
              "    <tr>\n",
              "      <th>4</th>\n",
              "      <td>---7WhU-FtzSUOje87Y4uw</td>\n",
              "      <td>5</td>\n",
              "      <td>2016-01-22</td>\n",
              "      <td>Interesting food, great atmosphere, and great ...</td>\n",
              "      <td>1</td>\n",
              "      <td>1</td>\n",
              "      <td>1</td>\n",
              "      <td>Z_mJYg3vi8cPZHa1J4BALw</td>\n",
              "      <td>NKF9v-r0jd1p0JVi9h2T1w</td>\n",
              "      <td>200</td>\n",
              "    </tr>\n",
              "  </tbody>\n",
              "</table>\n",
              "</div>"
            ],
            "text/plain": [
              "                       id  stars  ...                 user_id length\n",
              "0  ----X0BIDP9tA49U3RvdSQ      4  ...  gVmUR8rqUFdbSeZbsg6z_w    322\n",
              "1  ---0hl58W-sjVTKi5LghGw      4  ...  Y6qylbHq8QJmaCRSlKdIog    137\n",
              "2  ---3OXpexMp0oAg77xWfYA      5  ...  SnXZkRN9Yf060pNTk1HMDg    108\n",
              "3  ---65iIIGzHj96QnOh89EQ      5  ...  VcmSgvslHAhqWoEn16wjjw    113\n",
              "4  ---7WhU-FtzSUOje87Y4uw      5  ...  NKF9v-r0jd1p0JVi9h2T1w    200\n",
              "\n",
              "[5 rows x 10 columns]"
            ]
          },
          "metadata": {
            "tags": []
          },
          "execution_count": 26
        }
      ]
    },
    {
      "cell_type": "code",
      "metadata": {
        "colab_type": "code",
        "id": "SJxu46W6hzH8",
        "outputId": "add9ff9d-aaed-4dbe-c49b-ffe1878b7379",
        "colab": {
          "base_uri": "https://localhost:8080/",
          "height": 245
        }
      },
      "source": [
        "graph = sns.FacetGrid(data=df,col='stars')\n",
        "ax = graph.map(plt.hist,'length',bins=50,color='black')"
      ],
      "execution_count": 32,
      "outputs": [
        {
          "output_type": "display_data",
          "data": {
            "image/png": "[encoded data removed]",
            "text/plain": [
              "<Figure size 1080x216 with 5 Axes>"
            ]
          },
          "metadata": {
            "tags": []
          }
        }
      ]
    },
    {
      "cell_type": "code",
      "metadata": {
        "id": "uTXP-cpnnFQ4",
        "colab_type": "code",
        "colab": {}
      },
      "source": [
        "ax.savefig(\"stars_len.pdf\", bbox_inches=\"tight\")"
      ],
      "execution_count": 0,
      "outputs": []
    },
    {
      "cell_type": "code",
      "metadata": {
        "id": "4Z7jFaNKzoDl",
        "colab_type": "code",
        "outputId": "94af020f-d99e-449e-f925-19fe252f6b70",
        "colab": {
          "base_uri": "https://localhost:8080/",
          "height": 102
        }
      },
      "source": [
        "!zip ./graphs.zip ./*.pdf"
      ],
      "execution_count": 35,
      "outputs": [
        {
          "output_type": "stream",
          "text": [
            "updating: food-bus-ratio.pdf (deflated 33%)\n",
            "updating: food-rev-month-agg.pdf (deflated 32%)\n",
            "updating: food-rev-time.pdf (deflated 30%)\n",
            "updating: stars_dist.pdf (deflated 35%)\n",
            "  adding: stars_len.pdf (deflated 23%)\n"
          ],
          "name": "stdout"
        }
      ]
    }
  ]
}